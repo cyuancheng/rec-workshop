{
 "cells": [
  {
   "cell_type": "markdown",
   "metadata": {},
   "source": [
    "### Matrix Factorization\n",
    "\n",
    "In the last notebook you gained your first opportunity in working with the `turicreate` library.  In this notebook, you will continue working with this library to make recommendations.  However, you will use matrix factorization techniques beyond the `popularity` and `item similarity` recommendations you made in the previous notebook.\n",
    "\n",
    "### Import Data\n",
    "\n",
    "Start below by reading in the data and libraries needed for this task."
   ]
  },
  {
   "cell_type": "code",
   "execution_count": null,
   "metadata": {},
   "outputs": [],
   "source": [
    "import json\n",
    "import numpy as np\n",
    "import pandas as pd\n",
    "import turicreate as tc\n",
    "\n",
    "ratings_dat = pd.read_csv('../../data/ratings.dat', sep='::', engine='python', \\\n",
    "                          header=None, names=['user_id', 'movie_id','rating','time'])\n",
    "\n",
    "ratings_dat2 = ratings_dat.copy(deep=True)\n",
    "ratings_dat2.columns = ['user_id', 'item_id', 'rating', 'time']\n",
    "ratings_sframe = tc.SFrame(ratings_dat2[['user_id', 'item_id', 'rating']])\n",
    "\n",
    "ratings_sframe.head()"
   ]
  },
  {
   "cell_type": "markdown",
   "metadata": {},
   "source": [
    "Before we dive into building a recommendation engine using matrix factorization, let's take some time to make sure you understand the ideas associated with this technique.\n",
    "\n",
    "**Question 1:** When performing matrix factorization, one of the created matrices from this technique holds measurements about how a user feels... **[complete this sentence]**."
   ]
  },
  {
   "cell_type": "code",
   "execution_count": null,
   "metadata": {},
   "outputs": [],
   "source": [
    "import data_solution_part3 as sp\n",
    "\n",
    "a = \"towards other users\"\n",
    "b = \"towards each item\"\n",
    "c = \"as counts of how often they interacted with an item\"\n",
    "d = \"as latent factors\"\n",
    "\n",
    "your_answer = #a\n",
    "\n",
    "sp.answer_one(your_answer)"
   ]
  },
  {
   "cell_type": "markdown",
   "metadata": {},
   "source": [
    "**Question 2:** When performing matrix factorization, a second matrix contains... **[complete this sentence]**."
   ]
  },
  {
   "cell_type": "code",
   "execution_count": null,
   "metadata": {},
   "outputs": [],
   "source": [
    "a = \"latent factors related to items\"\n",
    "b = \"how users relate to one another\"\n",
    "c = \"how items relate to one another\"\n",
    "d = \"counts of how often users interacted with an item\"\n",
    "\n",
    "your_answer = #a\n",
    "\n",
    "sp.answer_two(your_answer)"
   ]
  },
  {
   "cell_type": "markdown",
   "metadata": {},
   "source": [
    "In certain matrix factorization methods ([FunkSVD](https://sifter.org/~simon/journal/20061211.html)), which is the most popular method used with recommendation systems, you may only retrieve the two matrices considered in the previous two questions.  \n",
    "\n",
    "In other matrix factorization techniques (Singular Value Decomposition), which are generally not possible given the missing values associated with recommendation systems, you may also obtain a third matrix.  [The series does a great job of walking you through the why and how in the posts through July 30 of all of the details if you are interested](http://nicolas-hug.com/tags#svd).\n",
    "\n",
    "**Question 3:** This third matrix contains... **[complete this sentence]**."
   ]
  },
  {
   "cell_type": "code",
   "execution_count": null,
   "metadata": {},
   "outputs": [],
   "source": [
    "a = \"mostly 0's\"\n",
    "b = \"mostly 1's\"\n",
    "c = \"mostly 2's\"\n",
    "d = \"other\"\n",
    "\n",
    "your_answer = #a\n",
    "\n",
    "sp.answer_three(your_answer)"
   ]
  },
  {
   "cell_type": "markdown",
   "metadata": {},
   "source": [
    "Now you will get your first opportunity at applying a factorization technique to making recommendations. The truth is that `turicreate` hides a lot of the details related to this technique.  \n",
    "\n",
    "In fact the process for using matrix factorization in `turicreate` is essentially the same as the techniques you saw in the previous notebook.  However, matrix factorization methods usually significantly outperform the methods you saw in the previous section in terms of their ability to make recommendations that will leave users delighted (or at least to click more).\n",
    "\n",
    "**Question 4:** Use the skeleton of the process below and the `ratings_sframe` to complete your recommendations using matrix factorization.  If you need guidance, use the link [here](https://apple.github.io/turicreate/docs/userguide/recommender/using-trained-models.html)."
   ]
  },
  {
   "cell_type": "code",
   "execution_count": null,
   "metadata": {},
   "outputs": [],
   "source": [
    "# use create to fit recommendation\n",
    "model_factorization = # create the model here\n",
    "\n",
    "# create an sframe of user_ids to make recs for user 1\n",
    "users_test = tc.SFrame({'user_id': [1]})\n",
    "\n",
    "# use recommend to make recommendations for the set of users\n",
    "factorization_results = # make recommendations\n",
    "\n",
    "# the top 5 recommendations for user_id 1 are:\n",
    "top_5_recs = # pull the top 5\n",
    "\n",
    "sp.answer_four(set(top_5_recs))"
   ]
  },
  {
   "cell_type": "markdown",
   "metadata": {},
   "source": [
    "### Final Thoughts\n",
    "\n",
    "Throughout this notebook, it has been stated that matrix factorization is generally the best mode of making recommendations.  However, how should we define \"best\"?  How do we ensure we are doing what is best for the business?  How do we measure \"best\" and update our models to maintain being \"best\"?\n",
    "\n",
    "I am glad you asked, because this is exactly what the next section is all about!"
   ]
  }
 ],
 "metadata": {
  "kernelspec": {
   "display_name": "Python 3",
   "language": "python",
   "name": "python3"
  },
  "language_info": {
   "codemirror_mode": {
    "name": "ipython",
    "version": 3
   },
   "file_extension": ".py",
   "mimetype": "text/x-python",
   "name": "python",
   "nbconvert_exporter": "python",
   "pygments_lexer": "ipython3",
   "version": "3.6.10"
  }
 },
 "nbformat": 4,
 "nbformat_minor": 4
}
