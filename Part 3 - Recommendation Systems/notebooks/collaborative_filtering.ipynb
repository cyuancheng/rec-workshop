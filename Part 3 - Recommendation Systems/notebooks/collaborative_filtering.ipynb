{
 "cells": [
  {
   "cell_type": "markdown",
   "metadata": {},
   "source": [
    "### Collaborative Filtering\n",
    "\n",
    "In this notebook, you will get some practice building out a few different methods for making recommendations - including collaborative filtering methods. For simplication, we will be focusing on just the recommendation engine box. Imagine the data is in a drop off zone in the format observed in `ratings.dat`.  \n",
    "\n",
    "Then, you are asked to create a relative path from the present working directory of this notebook to the path: \n",
    "\n",
    "```\n",
    "../../data/results.json\n",
    "```\n",
    "\n",
    "In this path, you should follow the convention of: \n",
    "\n",
    "```\n",
    "{\n",
    "\t\"results\": [\n",
    "        {\n",
    "\t\t\t\"user_id\": \"1\",\n",
    "\t\t\t\"recs\": [8722346, 1502397, 10526632, 3513548, 4082596]\n",
    "\t\t},\n",
    "\n",
    "\t\t{\n",
    "\t\t\t\"user_id\": \"2\",\n",
    "\t\t\t\"recs\": [8722346, 1502397, 10526632, 3513548, 4082596]\n",
    "\t\t},\n",
    "        \n",
    "        ...\n",
    "\t]\n",
    "}    \n",
    "                 \n",
    "```\n",
    "\n",
    "In the above, each `user_id` corresponds to the value of a user.  The list of values associated with `recs` contains `movie_id`s in the order of highest to lowest recommended movies for the `user_id` listed in the same object. In the above example, you can see there are two users, who are both recommended the same five movies.  \n",
    "\n",
    "The goal of each of the recommenders in this notebook is to essentially take the initial data and provide a `.json` file in the above format to the `./data/` path.  You will be implementing a number of different recommendation strategies to complete this task.\n",
    "\n",
    "### Import Data\n",
    "\n",
    "Start below by reading in the data needed for this task."
   ]
  },
  {
   "cell_type": "code",
   "execution_count": 3,
   "metadata": {},
   "outputs": [
    {
     "data": {
      "text/html": [
       "<div>\n",
       "<style scoped>\n",
       "    .dataframe tbody tr th:only-of-type {\n",
       "        vertical-align: middle;\n",
       "    }\n",
       "\n",
       "    .dataframe tbody tr th {\n",
       "        vertical-align: top;\n",
       "    }\n",
       "\n",
       "    .dataframe thead th {\n",
       "        text-align: right;\n",
       "    }\n",
       "</style>\n",
       "<table border=\"1\" class=\"dataframe\">\n",
       "  <thead>\n",
       "    <tr style=\"text-align: right;\">\n",
       "      <th></th>\n",
       "      <th>user_id</th>\n",
       "      <th>movie_id</th>\n",
       "      <th>rating</th>\n",
       "      <th>time</th>\n",
       "    </tr>\n",
       "  </thead>\n",
       "  <tbody>\n",
       "    <tr>\n",
       "      <th>0</th>\n",
       "      <td>1</td>\n",
       "      <td>8722346</td>\n",
       "      <td>8</td>\n",
       "      <td>1580754089</td>\n",
       "    </tr>\n",
       "    <tr>\n",
       "      <th>1</th>\n",
       "      <td>2</td>\n",
       "      <td>1502397</td>\n",
       "      <td>7</td>\n",
       "      <td>1580809792</td>\n",
       "    </tr>\n",
       "    <tr>\n",
       "      <th>2</th>\n",
       "      <td>3</td>\n",
       "      <td>10526632</td>\n",
       "      <td>8</td>\n",
       "      <td>1580676978</td>\n",
       "    </tr>\n",
       "    <tr>\n",
       "      <th>3</th>\n",
       "      <td>3</td>\n",
       "      <td>3513548</td>\n",
       "      <td>8</td>\n",
       "      <td>1579462218</td>\n",
       "    </tr>\n",
       "    <tr>\n",
       "      <th>4</th>\n",
       "      <td>3</td>\n",
       "      <td>4082596</td>\n",
       "      <td>8</td>\n",
       "      <td>1580945311</td>\n",
       "    </tr>\n",
       "  </tbody>\n",
       "</table>\n",
       "</div>"
      ],
      "text/plain": [
       "   user_id  movie_id  rating        time\n",
       "0        1   8722346       8  1580754089\n",
       "1        2   1502397       7  1580809792\n",
       "2        3  10526632       8  1580676978\n",
       "3        3   3513548       8  1579462218\n",
       "4        3   4082596       8  1580945311"
      ]
     },
     "execution_count": 3,
     "metadata": {},
     "output_type": "execute_result"
    }
   ],
   "source": [
    "import json\n",
    "import numpy as np\n",
    "import pandas as pd\n",
    "\n",
    "ratings_dat = pd.read_csv('../../data/ratings.dat', sep='::', engine='python', \\\n",
    "                          header=None, names=['user_id', 'movie_id','rating','time'])\n",
    "\n",
    "ratings_dat.head()"
   ]
  },
  {
   "cell_type": "markdown",
   "metadata": {},
   "source": [
    "**Question 1:** Imagine as a first rating system, you decide to provide the same set of  5 recommendations to each individual.  The rankings for each are in the order from the most ratings to the least.  Use the cell below to provide a list of the 5 movies that will be recommended to each individual.  "
   ]
  },
  {
   "cell_type": "code",
   "execution_count": null,
   "metadata": {},
   "outputs": [],
   "source": [
    "import data_solution_part2 as sp\n",
    "\n",
    "your_answer = [1, 2, 3, 4, 5] # a list of the 5 recs you will povide to each user\n",
    "\n",
    "sp.answer_one(your_answer)"
   ]
  },
  {
   "cell_type": "markdown",
   "metadata": {},
   "source": [
    "**Question 2:** Now that you have a list of recommendations, you will need to put in the correct format and drop the file in the correct location.  A helper function has been provided to you to perform these tasks, but you should store your results in a dictionary with the format shown below that will be passed to this helper function.  The format of your dictionary should be:\n",
    "\n",
    "```\n",
    "{\n",
    "    1 : [1, 2, 3, 4, 5],\n",
    "    2 : [1, 2, 3, 4, 5],\n",
    "    ...\n",
    "}\n",
    "```\n",
    "\n",
    "where the `user_id` is the key and the value is a list of `movie_id`s is provided for each user in order from highest recommendation to lowest recommendation.  \n",
    "\n",
    "**Reminder:** The recommendations for each user should be the ones generated in the first solution. "
   ]
  },
  {
   "cell_type": "code",
   "execution_count": null,
   "metadata": {},
   "outputs": [],
   "source": [
    "# create a dictionary of your recommendations in the format shown above\n",
    "# your work here\n",
    "\n",
    "results_dict = \n",
    "\n",
    "sp.answer_two(results_dict)"
   ]
  },
  {
   "cell_type": "code",
   "execution_count": null,
   "metadata": {
    "scrolled": true
   },
   "outputs": [],
   "source": [
    "# just run this cell and take a look at the results\n",
    "from ast import literal_eval\n",
    "\n",
    "class NpEncoder(json.JSONEncoder):\n",
    "    def default(self, obj):\n",
    "        if isinstance(obj, np.integer):\n",
    "            return int(obj)\n",
    "        elif isinstance(obj, np.floating):\n",
    "            return float(obj)\n",
    "        elif isinstance(obj, np.ndarray):\n",
    "            return obj.tolist()\n",
    "        else:\n",
    "            return super(NpEncoder, self).default(obj)\n",
    "\n",
    "def create_json(path = '../../data/results.json', user_ratings_dict=results_dict):\n",
    "    '''\n",
    "    puts a json file at path where user_rartings_dict is of form:\n",
    "    \n",
    "        {\n",
    "            1 : [1, 2, 3, 4, 5],\n",
    "            2 : [1, 2, 3, 4, 5],\n",
    "            ...\n",
    "        }\n",
    "    \n",
    "    and stores the results as:\n",
    "    \n",
    "        {\n",
    "            \"results\": [\n",
    "                {\n",
    "                    \"user_id\": \"1\",\n",
    "                    \"recs\": [8722346, 1502397, 10526632, 3513548, 4082596]\n",
    "                },\n",
    "\n",
    "                {\n",
    "                    \"user_id\": \"2\",\n",
    "                    \"recs\": [8722346, 1502397, 10526632, 3513548, 4082596]\n",
    "                },\n",
    "\n",
    "                ...\n",
    "            ]\n",
    "        } \n",
    "        \n",
    "    and returns the json version\n",
    "    \n",
    "    '''\n",
    "    final_results = dict()\n",
    "    final_results[\"results\"] = []\n",
    "\n",
    "    for user_id, recs in user_ratings_dict.items():\n",
    "        entry = dict()\n",
    "        entry[\"user\"] = str(user_id)\n",
    "        entry[\"recs\"] = recs\n",
    "        final_results[\"results\"].append(entry)\n",
    "    \n",
    "    final_json = json.dumps(final_results, cls=NpEncoder)\n",
    "    \n",
    "    !touch path\n",
    "    with open(path, \"w\") as write_file:\n",
    "        json.dump(final_json, write_file)\n",
    "        \n",
    "    with open(path) as f:\n",
    "        final_json = json.load(f)\n",
    "    \n",
    "    return final_json\n",
    "\n",
    "final_json = create_json()\n",
    "\n",
    "# print the results \n",
    "print(json.dumps(literal_eval(final_json), sort_keys=True, indent=4, separators=(',', ': ')))"
   ]
  },
  {
   "cell_type": "markdown",
   "metadata": {},
   "source": [
    "### Graphlab (Turicreate)\n",
    "\n",
    "One of the most popular libraries for making recommendations is [Graphlab](https://turi.com/products/create/docs/graphlab.toolkits.recommender.html), which was acquired by Apple in 2016 and has the open source [Turicreate](https://apple.github.io/turicreate/docs/userguide/recommender/) used here.  The library allows for recommendations to be made using a number of popular methods without having to think too hard about all the math under the hood (similar to the way sklearn works for popular machine learning methods).\n",
    "\n",
    "In order to put data in the correct format, run the cell below."
   ]
  },
  {
   "cell_type": "code",
   "execution_count": null,
   "metadata": {},
   "outputs": [],
   "source": [
    "import turicreate as tc\n",
    "\n",
    "ratings_dat2 = ratings_dat.copy(deep=True)\n",
    "ratings_dat2.columns = ['user_id', 'item_id', 'rating', 'time']\n",
    "ratings_sframe = tc.SFrame(ratings_dat2[['user_id', 'item_id', 'rating']])\n",
    "ratings_sframe.head(5)"
   ]
  },
  {
   "cell_type": "markdown",
   "metadata": {},
   "source": [
    "#### Gaining Familiarity With Turicreate\n",
    "\n",
    "Now that you have a dataframe that is in the correct format needed for `turicreate` (an `sframe` with a `user_id`, `item_id`, and a `rating`); you will be using the same library to fit a number of different recommendation algorithms.  Below I will walk you through an example, so you will have seen how recommendations are created from start to finish with the `turicreate` library.  You will then answer some questions about these recommendations.  Then, in the next sections, you will use a similar process to provide ratings using the similarity metrics you learned about in the previous notebook.\n",
    "\n",
    "The code below will walk through an example using the `popularity_recommender`.  The process is similar for making recommendations with any other method:\n",
    "\n",
    "1. Use `create` to fit your recommender system.\n",
    "\n",
    "\n",
    "2. Create an `sframe` of `user_id`s for which you would like to make recommendations.\n",
    "\n",
    "\n",
    "3. Use `recommend` to obtain recommendations for these individuals.\n",
    "\n",
    "\n",
    "4. Update the format of the recommendations to output structure."
   ]
  },
  {
   "cell_type": "code",
   "execution_count": null,
   "metadata": {
    "scrolled": true
   },
   "outputs": [],
   "source": [
    "# use create to fit recommendation\n",
    "m_popular = tc.popularity_recommender.create(ratings_sframe, target='rating')\n",
    "\n",
    "# create an sframe of user_ids to make recs for\n",
    "users_test = tc.SFrame({'user_id': [1, 2, 8]})\n",
    "\n",
    "# use recommend to make recommendations for the set of users\n",
    "popular_results = m_popular.recommend(users_test)\n",
    "\n",
    "# update format of output to the json format above\n",
    "# obtain dictionary similar to earlier in the notebook\n",
    "results_dict = dict()\n",
    "for user_id in np.unique(popular_results['user_id']):\n",
    "    recs = np.array(popular_results[popular_results['user_id'] == user_id]['item_id'])\n",
    "    results_dict[user_id] = list(recs)\n",
    " \n",
    "# store json        \n",
    "popularity_json = create_json('../../data/popularity_results.json', results_dict)\n",
    "\n",
    "# look at the results\n",
    "print(json.dumps(literal_eval(popularity_json), sort_keys=True, indent=4, separators=(',', ': ')))"
   ]
  },
  {
   "cell_type": "markdown",
   "metadata": {},
   "source": [
    "**Question 3:** In the previous cell, you will notice that you created reviews for 3 different users.  Use these reviews and the cell below to provide a list of only the letters where the corresponding statement is `True`.  \n",
    "\n",
    "**Example:** For example `[a, b, c]` would suggest that these three statements are true, but `d` and `e` are `False`.  Please list the letters in the order in which the statements occur."
   ]
  },
  {
   "cell_type": "code",
   "execution_count": null,
   "metadata": {},
   "outputs": [],
   "source": [
    "a = \"The popularity recommendations are the same across all users.\"\n",
    "b = \"The popularity recommendations remove movies a user has already watched.\"\n",
    "c = \"The popularity recommendations are based on the ratings received by each movie.\"\n",
    "d = \"The recommendations made in question 1 match the popularity recommendations.\"\n",
    "e = \"The recommendations made in question 1 are based on the ratings received by each movie.\"\n",
    "\n",
    "your_answer = # [a, b, c, d, e]\n",
    "\n",
    "sp.answer_three(your_answer)"
   ]
  },
  {
   "cell_type": "markdown",
   "metadata": {},
   "source": [
    "**Question 4:** Your turn! Now that you have gained some familiarity with the process used to generate recommendations using the `popularity_recommender` based on rating.  Attempt to perform the same process using the `popularity_recommender` without using rating. Then look at recommendations for `user_1` to answer this and the following question."
   ]
  },
  {
   "cell_type": "code",
   "execution_count": null,
   "metadata": {},
   "outputs": [],
   "source": [
    "# use create to fit recommendation\n",
    "model_popular = # create the model here\n",
    "\n",
    "# create an sframe of user_ids to make recs for user 1\n",
    "users_test = tc.SFrame({'user_id': [1]})\n",
    "\n",
    "# use recommend to make recommendations for the set of users\n",
    "popular_results = # make recommendations\n",
    "\n",
    "# the top 5 recommendations for user_id 1 are:\n",
    "top_5_recs = # pull the top 5\n",
    "\n",
    "sp.answer_four(list(top_5_recs))"
   ]
  },
  {
   "cell_type": "markdown",
   "metadata": {},
   "source": [
    "**Question 5:** Based on the results to the previous question, which of the following statements are `True`.  Provide the letter for each true statement in the list to be checked against the solution. \n",
    "\n",
    "**Example:** For example `[a, b]` would suggest that these two statements are true, but `c` is `False`.  Please list the letters in the order in which the statements occur."
   ]
  },
  {
   "cell_type": "code",
   "execution_count": null,
   "metadata": {},
   "outputs": [],
   "source": [
    "a = \"The top 5 recommendations for question 4 are the same as the top 5 for question 1.\"\n",
    "b = \"Both questions 4 and 1 use recommendations based on the times a movie was watched.\"\n",
    "c = \"One benefit of using turicreate is that it easily removes movies you've already watched.\"\n",
    "\n",
    "your_answer = # [a, b, c]\n",
    "\n",
    "sp.answer_five(your_answer)"
   ]
  },
  {
   "cell_type": "markdown",
   "metadata": {},
   "source": [
    "Below you can see an example of how each of these individual models would be created:\n",
    "\n",
    "```\n",
    "# jaccard\n",
    "mod_2 = tc.item_similarity_recommender.create(ratings_sframe[['user_id', 'item_id']])\n",
    "\n",
    "# pearson\n",
    "mod_1 = tc.item_similarity_recommender.create(ratings_sframe, similarity_type='pearson')\n",
    "\n",
    "# cosine\n",
    "mod_1 = tc.item_similarity_recommender.create(ratings_sframe, similarity_type='cosine')\n",
    "```\n",
    "\n",
    "**Question 6:** Now as a final recommender technique, use the `item_similarity_recommender` to provide recommendations for the first user and check your answer against the solution below. If no rating is provided, then `jaccard` similaity is used.  The other two possible similarity metrics when ratings are available: `pearson` and `cosine` similarity."
   ]
  },
  {
   "cell_type": "code",
   "execution_count": null,
   "metadata": {},
   "outputs": [],
   "source": [
    "# use create to fit recommendation\n",
    "model_item = # create item recommender\n",
    "\n",
    "# create an sframe of user_ids to make recs for user 1\n",
    "users_test = tc.SFrame({'user_id': [1]})\n",
    "\n",
    "# use recommend to make recommendations for the set of users\n",
    "item_results = # recommend on users_test\n",
    "\n",
    "# the top 5 recommendations for user_id 1 are:\n",
    "top_5_recs = # pull the top 5 recommendations\n",
    "\n",
    "sp.answer_six(list(top_5_recs))"
   ]
  },
  {
   "cell_type": "markdown",
   "metadata": {},
   "source": [
    "You can obtain the 5 most similar users to each user or the 5 most similar items to each each item using the `get_similar_users(k=5)` or `get_similar_items(k=5)` methods on any model.\n",
    "\n",
    "**Question 7:** Find the 3 most similar users to `user_id` 100 using your popular similarity recommender."
   ]
  },
  {
   "cell_type": "code",
   "execution_count": null,
   "metadata": {},
   "outputs": [],
   "source": [
    "your_answer = # similarity [1, 2, 3]\n",
    "\n",
    "sp.answer_seven(your_answer)"
   ]
  },
  {
   "cell_type": "markdown",
   "metadata": {},
   "source": [
    "**Queestion 8:** Find the 3 most similar items to `item_id` 8404614 using the item similarity model."
   ]
  },
  {
   "cell_type": "code",
   "execution_count": null,
   "metadata": {},
   "outputs": [],
   "source": [
    "your_answer = # similarity [1, 2, 3]\n",
    "\n",
    "sp.answer_eight(your_answer)"
   ]
  }
 ],
 "metadata": {
  "kernelspec": {
   "display_name": "Python 3",
   "language": "python",
   "name": "python3"
  },
  "language_info": {
   "codemirror_mode": {
    "name": "ipython",
    "version": 3
   },
   "file_extension": ".py",
   "mimetype": "text/x-python",
   "name": "python",
   "nbconvert_exporter": "python",
   "pygments_lexer": "ipython3",
   "version": "3.6.10"
  }
 },
 "nbformat": 4,
 "nbformat_minor": 2
}
