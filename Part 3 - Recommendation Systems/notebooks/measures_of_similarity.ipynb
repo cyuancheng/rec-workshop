{
 "cells": [
  {
   "cell_type": "markdown",
   "metadata": {},
   "source": [
    "### Measures of Similarity\n",
    "\n",
    "In this notebook, you will get some practice working with different measures of similarity.  The goal of this notebook is to assist you in calculating these different measures in python, as well as understanding how these measures might be impacted based on the data you will see in the real world.  \n",
    "\n",
    "In the following notebook in this lesson, you will be doing more to apply these measures to real data. "
   ]
  },
  {
   "cell_type": "markdown",
   "metadata": {},
   "source": [
    "**Intro:** Read in the libraries needed to complete this notebook."
   ]
  },
  {
   "cell_type": "code",
   "execution_count": null,
   "metadata": {},
   "outputs": [],
   "source": [
    "import numpy as np\n",
    "import pandas as pd\n",
    "import matplotlib.pyplot as plt\n",
    "from scipy.stats import pearsonr\n",
    "from sklearn.metrics import jaccard_score\n",
    "from sklearn.metrics.pairwise import cosine_similarity\n",
    "\n",
    "%matplotlib inline"
   ]
  },
  {
   "cell_type": "markdown",
   "metadata": {},
   "source": [
    "**Question 1:** Using the built in scipy stats `pearsonr` function, calculate the correlation between `user_1` and `user_2` defined below."
   ]
  },
  {
   "cell_type": "code",
   "execution_count": null,
   "metadata": {},
   "outputs": [],
   "source": [
    "import data_solution_part1 as sp\n",
    "\n",
    "user_1 = np.array([3, 2, 1, 8, 8, 9])\n",
    "user_2 = np.array([4, 1, 2, 10, 10, 9])\n",
    "\n",
    "your_answer = # correlation coefficient here\n",
    "\n",
    "sp.answer_one(your_answer)"
   ]
  },
  {
   "cell_type": "markdown",
   "metadata": {},
   "source": [
    "**Question 2:** Based on the correlation coefficient acheived in the previous question, what is true about thee relationship between `user_1` and `user_2`?"
   ]
  },
  {
   "cell_type": "code",
   "execution_count": null,
   "metadata": {},
   "outputs": [],
   "source": [
    "a = \"user_1 and user_2 have a negative, linear relationship\"\n",
    "b = \"user_1 and user_2 have no real relationship\"\n",
    "c = \"user_1 and user_2 have a positive, linear relationship\"\n",
    "d = \"it is impossible to tell the type of relationship just from one number\"\n",
    "\n",
    "your_answer = #a\n",
    "\n",
    "sp.answer_two(your_answer)"
   ]
  },
  {
   "cell_type": "markdown",
   "metadata": {},
   "source": [
    "**Question 3:** Use sklearn to calculate the `cosine_similarity` between `user_1` and `user_2`.  \n",
    "\n",
    "**Hint:** If you get an error, use the error message to assist with your solution.  Remember your solution should be a single value, not an array of values."
   ]
  },
  {
   "cell_type": "code",
   "execution_count": null,
   "metadata": {},
   "outputs": [],
   "source": [
    "from sklearn.metrics.pairwise import cosine_similarity\n",
    "\n",
    "user_1 = np.array([3, 2, 1, 8, 8, 9])\n",
    "user_2 = np.array([4, 1, 2, 10, 10, 9])\n",
    "\n",
    "your_answer = # cosine similarity here\n",
    "\n",
    "sp.answer_three(your_answer)"
   ]
  },
  {
   "cell_type": "markdown",
   "metadata": {},
   "source": [
    "**Question 4:** By changing the two vectors being compared, you can actually show provide the same Pearson correlation coefficient and cosine similarity.  Which of the below is the transformation that is needed to create equality?"
   ]
  },
  {
   "cell_type": "code",
   "execution_count": null,
   "metadata": {},
   "outputs": [],
   "source": [
    "a = \"Subtract the mean from each vector\"\n",
    "b = \"Divide by the standard deviation from each vector\"\n",
    "c = \"Subtract the standard deviation from each vector\"\n",
    "d = \"Subtract the mean and divide by the standard deviation from each vector\"\n",
    "e = \"None of the above\"\n",
    "\n",
    "your_answer = #a\n",
    "\n",
    "sp.answer_four(your_answer)"
   ]
  },
  {
   "cell_type": "markdown",
   "metadata": {},
   "source": [
    "**Use the below cell to perform the transformation above, and show that the cosine similarity and pearson correlation coefficient are equal.**"
   ]
  },
  {
   "cell_type": "code",
   "execution_count": null,
   "metadata": {},
   "outputs": [],
   "source": [
    "user_1 = np.array([3, 2, 1, 8, 8, 9])\n",
    "user_2 = np.array([4, 1, 2, 10, 10, 9])\n",
    "\n",
    "user_1_transformed = #transform user 1\n",
    "user_2_transformed = #transform user 2\n",
    "\n",
    "# these should match\n",
    "print(\"The pearson correlation is: {}\".format(np.round(pearsonr(user_1, user_2)[0], 8)))\n",
    "print(\"The cosine similarity using the transformed is: {}\".format(np.round(cosine_similarity(user_1_transformed.reshape(1, -1), user_2_transformed.reshape(1, -1))[0][0], 8)))    "
   ]
  },
  {
   "cell_type": "markdown",
   "metadata": {},
   "source": [
    "The unfortunate part of the data that is acheived from the movietweetings ratings (and many applications in the real world) is that most individuals haven't interacted with all the same items.  Therefore, to compute the correlation between two individual's, we have to make sure they have ratings in overlapping movies.\n",
    "\n",
    "The measures of correlation and cosine similarity therefore do not always work well in practice - as these measures tend to work well when users have rated a lot of items, and these ratings overlap with other users some of whom are similar to them.\n",
    "\n",
    "**Question 5:** Use the below to find the value of the correlation coefficient when a `nan` is present in one or both of two vectors being compared."
   ]
  },
  {
   "cell_type": "code",
   "execution_count": null,
   "metadata": {},
   "outputs": [],
   "source": [
    "user_1 = np.array([3, 2, 1, 8, 8, 9])\n",
    "user_2 = np.array([4, 1, 2, 10, np.nan, 9])\n",
    "\n",
    "your_answer = # correlation coefficient\n",
    "\n",
    "sp.answer_five(your_answer)"
   ]
  },
  {
   "cell_type": "markdown",
   "metadata": {},
   "source": [
    "**Question 6:** Fill in the function below that takes in two vectors, finds and removes the indices where at least one is `nan`.  Use your new function to compute the correlation between the `user_1` and `user_2` vectors that contain `nan`s."
   ]
  },
  {
   "cell_type": "code",
   "execution_count": null,
   "metadata": {},
   "outputs": [],
   "source": [
    "user_1 = np.array([3, 2, 1, 8, 8, 9])\n",
    "user_2 = np.array([4, 1, 2, 10, np.nan, 9])\n",
    "\n",
    "def compute_correl(vec1, vec2):\n",
    "    '''\n",
    "    inputs:\n",
    "    vec1 - np.array\n",
    "    vec2 - np.array\n",
    "    \n",
    "    return:\n",
    "    pearson correlation between two vectors where indices with a nan in \n",
    "    either vector are removed from both vectors\n",
    "    '''\n",
    "    \n",
    "\n",
    "    return pearsonr(vec1, vec2)[0]\n",
    "\n",
    "your_answer = compute_correl(user_1, user_2)\n",
    "\n",
    "sp.answer_six(your_answer)"
   ]
  },
  {
   "cell_type": "code",
   "execution_count": null,
   "metadata": {},
   "outputs": [],
   "source": [
    "# additional test\n",
    "x = np.array([3, 2, np.nan, 8, np.nan, 9])\n",
    "y = np.array([np.nan, 1, 2, 10, np.nan, 9])\n",
    "\n",
    "assert sp.compute_correl_2(x,y) == compute_correl(x,y)"
   ]
  },
  {
   "attachments": {
    "image.png": {
     "image/png": "[encoded data removed]"
    }
   },
   "cell_type": "markdown",
   "metadata": {},
   "source": [
    "In order to compute the **jaccard** measure of similarity, you need to look at the overlapping ratings between two users divided by the total ratings across both users.  In the image below, the purple represents this ratio.\n",
    "\n",
    "![image.png](attachment:image.png)\n",
    "\n",
    "**Question 7:** Fill in the function below to compute the jaccard similarity between two vectors.  Using `x` and `y`, you can test if your function works for these two examples."
   ]
  },
  {
   "cell_type": "code",
   "execution_count": null,
   "metadata": {},
   "outputs": [],
   "source": [
    "x = np.array([3, 2, np.nan, 8, np.nan, 9])\n",
    "y = np.array([np.nan, 1, 2, 10, np.nan, 9])\n",
    "\n",
    "def compute_jaccard(vec1, vec2):\n",
    "    '''\n",
    "    inputs:\n",
    "    vec1 - np.array\n",
    "    vec2 - np.array\n",
    "    \n",
    "    return:\n",
    "    jaccard similarity computed between vec1 and vec2 \n",
    "    '''\n",
    "    \n",
    "    return # return jaccard similarity\n",
    "\n",
    "your_solution = compute_jaccard(x, y)\n",
    "\n",
    "sp.answer_seven(your_solution)"
   ]
  },
  {
   "cell_type": "markdown",
   "metadata": {},
   "source": [
    "Here you can see if your solution matches the built in."
   ]
  },
  {
   "cell_type": "code",
   "execution_count": null,
   "metadata": {},
   "outputs": [],
   "source": [
    "from sklearn.metrics import jaccard_score\n",
    "x_new = np.where(np.isnan(x), 0, 1)\n",
    "y_new = np.where(np.isnan(y), 0, 1)\n",
    "\n",
    "# these should match\n",
    "print(\"Your score is: {}\".format(compute_jaccard(x, y)))\n",
    "print(\"The built in score is: {}\".format(jaccard_score(x_new, y_new)))"
   ]
  },
  {
   "cell_type": "markdown",
   "metadata": {},
   "source": [
    "Here is another test of if your solution matches the built in."
   ]
  },
  {
   "cell_type": "code",
   "execution_count": null,
   "metadata": {},
   "outputs": [],
   "source": [
    "x = np.array([np.nan, 1, 2, 10, np.nan, 9, 2, 3, 4, 1, np.nan, np.nan, np.nan])\n",
    "y = np.array([3, 2, np.nan, 8, np.nan, 9, 3, 2, np.nan, 8, np.nan, 9, 10])\n",
    "x_new = np.where(np.isnan(x), 0, 1)\n",
    "y_new = np.where(np.isnan(y), 0, 1)\n",
    "\n",
    "# these should match\n",
    "print(\"Your score is: {}\".format(compute_jaccard(x, y)))\n",
    "print(\"The built in score is: {}\".format(jaccard_score(x_new, y_new)))"
   ]
  }
 ],
 "metadata": {
  "kernelspec": {
   "display_name": "Python 3",
   "language": "python",
   "name": "python3"
  },
  "language_info": {
   "codemirror_mode": {
    "name": "ipython",
    "version": 3
   },
   "file_extension": ".py",
   "mimetype": "text/x-python",
   "name": "python",
   "nbconvert_exporter": "python",
   "pygments_lexer": "ipython3",
   "version": "3.6.7"
  }
 },
 "nbformat": 4,
 "nbformat_minor": 2
}
