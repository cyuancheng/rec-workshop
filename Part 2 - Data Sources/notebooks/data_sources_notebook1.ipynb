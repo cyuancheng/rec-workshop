{
 "cells": [
  {
   "cell_type": "markdown",
   "metadata": {},
   "source": [
    "### Data Sources\n",
    "\n",
    "In this notebook, you will get some practice working with data sources that are associated with recommendation systems.  \n",
    "\n",
    "As a review, remember that the type of data you have available to you determines what recommendation systems are possible:\n",
    "\n",
    "* Collaborative Filtering\n",
    "    - requires user-item interaction data\n",
    "\n",
    "* Demographic Recommenders\n",
    "    - require user information\n",
    "    \n",
    "* Content Based Recommenders\n",
    "    - require item information\n",
    "    \n",
    "* Utility Based Recommenders\n",
    "    - no strong requirements, but perform better with as many features as possible\n",
    "    \n",
    "* Knowledge Based Recommenders\n",
    "    - require user provided information to filter items\n"
   ]
  },
  {
   "cell_type": "markdown",
   "metadata": {},
   "source": [
    "**Intro:** Read in and take a look at the data below. This data is available from [MovieTweetings](https://github.com/sidooms/MovieTweetings).  Following the link provides additional information about the data should you want to know more information. "
   ]
  },
  {
   "cell_type": "code",
   "execution_count": null,
   "metadata": {},
   "outputs": [],
   "source": [
    "import numpy as np\n",
    "import pandas as pd\n",
    "\n",
    "movies_dat = pd.read_csv('./data/movies.dat', sep='::', engine='python',\n",
    "                         header=None, names=['movie_id', 'movie_title', 'movie_genre'])\n",
    "users_dat = pd.read_csv('./data/users.dat', sep='::', engine='python', \\\n",
    "                        header=None, names=['user_id', 'twitter_id'])\n",
    "ratings_dat = pd.read_csv('./data/ratings.dat', sep='::', engine='python', \\\n",
    "                          header=None, names=['user_id', 'movie_id','rating','time'])\n"
   ]
  },
  {
   "cell_type": "code",
   "execution_count": null,
   "metadata": {},
   "outputs": [],
   "source": [
    "#look at the datasets using this cell"
   ]
  },
  {
   "cell_type": "code",
   "execution_count": null,
   "metadata": {},
   "outputs": [],
   "source": [
    "#look at the datasets using this cell"
   ]
  },
  {
   "cell_type": "code",
   "execution_count": null,
   "metadata": {},
   "outputs": [],
   "source": [
    "#look at the datasets using this cell"
   ]
  },
  {
   "cell_type": "code",
   "execution_count": null,
   "metadata": {},
   "outputs": [],
   "source": []
  },
  {
   "cell_type": "markdown",
   "metadata": {},
   "source": [
    "**Question 1:** Based on the data provided, which of the following recommender systems is absolutely not possible to build?"
   ]
  },
  {
   "cell_type": "code",
   "execution_count": null,
   "metadata": {},
   "outputs": [],
   "source": [
    "import data_solution_part1 as sp\n",
    "\n",
    "a = \"Collaborative Filtering\"\n",
    "b = \"Demographic Based Recommender\"\n",
    "c = \"Content Based Recommender\"\n",
    "d = \"Utility Based Recommender\"\n",
    "e = \"Knowledge Based Recommender\"\n",
    "\n",
    "your_answer = #a\n",
    "\n",
    "sp.answer_one(your_answer)"
   ]
  },
  {
   "cell_type": "markdown",
   "metadata": {},
   "source": [
    "**Question 2:** If we wanted to build a collaborative filtering recommender system, what dataframe(s) would we absolutely need?"
   ]
  },
  {
   "cell_type": "code",
   "execution_count": null,
   "metadata": {},
   "outputs": [],
   "source": [
    "a = \"movies_dat\"\n",
    "b = \"users_dat\"\n",
    "c = \"ratings_dat\"\n",
    "d = \"movies_dat and ratings_dat\"\n",
    "e = \"all three dataframes are needed\"\n",
    "\n",
    "your_answer = #a\n",
    "\n",
    "sp.answer_two(your_answer)"
   ]
  },
  {
   "cell_type": "markdown",
   "metadata": {},
   "source": [
    "Exploring and understanding your dataset is super important!  Because of that, you need to do Exploratory Data Analysis (EDA) to understand your dataset!\n",
    "\n",
    "**Question 3:** How many unique users have rated movies?  How many unique movies are in the dataset?  What is the average rating provided in the dataset?  What is the minimum rating given in the dataset?  How many missing values are in `ratings_dat`? Fill in your answers to each below."
   ]
  },
  {
   "cell_type": "code",
   "execution_count": null,
   "metadata": {},
   "outputs": [],
   "source": [
    "unique_users = # your answer integer\n",
    "unique_movies = # your answer integer\n",
    "avg_rating = # your answer round to hundredths place\n",
    "min_rating = # your answer round to integer\n",
    "max_rating = # your answer round to integer\n",
    "missing_vals = # your answer integer\n",
    "\n",
    "your_answer = (unique_users, unique_movies, avg_rating, \\\n",
    "               min_rating, max_rating, missing_vals)\n",
    "\n",
    "sp.answer_three(your_answer)"
   ]
  },
  {
   "cell_type": "markdown",
   "metadata": {},
   "source": [
    "**Question 4:** There are two movies that have an average rating of 10, while having more than 2 ratings - these are the two movies with the 'highest average, max number of ratings' combination.  What are these two movies?"
   ]
  },
  {
   "cell_type": "code",
   "execution_count": null,
   "metadata": {},
   "outputs": [],
   "source": [
    "a = \"A Woman Under the Influence\"\n",
    "b = \"Amadeus\"\n",
    "c = \"ratings_dat\"\n",
    "d = \"movies_dat and ratings_dat\"\n",
    "e = \"all three dataframes are needed\"\n",
    "\n",
    "your_answer = #(10_rating_4_count_movie, 10_rating_3_count_movie)\n",
    "\n",
    "sp.answer_four(your_answer)"
   ]
  },
  {
   "cell_type": "code",
   "execution_count": null,
   "metadata": {},
   "outputs": [],
   "source": [
    "#use this cell for your work"
   ]
  },
  {
   "cell_type": "code",
   "execution_count": null,
   "metadata": {},
   "outputs": [],
   "source": [
    "#use this cell for your work"
   ]
  },
  {
   "cell_type": "code",
   "execution_count": null,
   "metadata": {},
   "outputs": [],
   "source": [
    "#use this cell for your work"
   ]
  },
  {
   "cell_type": "markdown",
   "metadata": {},
   "source": [
    "Use the space below to look at the distribution of ratings, and explore any other proporties you might be interested in understanding. Like which user gave the most ratings? Or which user gave the highest ratings on average combined with the most ratings?  \n",
    "\n",
    "We will dive into how to clean up some characteristics of the data, and then you will be ready to start building your own recommendation systems!"
   ]
  },
  {
   "cell_type": "code",
   "execution_count": null,
   "metadata": {},
   "outputs": [],
   "source": [
    "#more cells for your work"
   ]
  },
  {
   "cell_type": "code",
   "execution_count": null,
   "metadata": {},
   "outputs": [],
   "source": []
  },
  {
   "cell_type": "code",
   "execution_count": null,
   "metadata": {},
   "outputs": [],
   "source": []
  },
  {
   "cell_type": "code",
   "execution_count": null,
   "metadata": {},
   "outputs": [],
   "source": []
  }
 ],
 "metadata": {
  "kernelspec": {
   "display_name": "Python 3",
   "language": "python",
   "name": "python3"
  },
  "language_info": {
   "codemirror_mode": {
    "name": "ipython",
    "version": 3
   },
   "file_extension": ".py",
   "mimetype": "text/x-python",
   "name": "python",
   "nbconvert_exporter": "python",
   "pygments_lexer": "ipython3",
   "version": "3.6.7"
  }
 },
 "nbformat": 4,
 "nbformat_minor": 2
}
