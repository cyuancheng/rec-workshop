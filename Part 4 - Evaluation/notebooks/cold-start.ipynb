{
 "cells": [
  {
   "cell_type": "markdown",
   "metadata": {},
   "source": [
    "### Cold Start Problem\n",
    "\n",
    "In this notebook, you will get more practice with evaluation methods as a continuation of the previous notebook.  You will also see what happens when you meet the cold start problem face to face.  And, we will consider some methods to handle the cold start problem.\n",
    "\n",
    "With that, run the cell below to read in the ratings data, and let's get started!"
   ]
  },
  {
   "cell_type": "code",
   "execution_count": null,
   "metadata": {},
   "outputs": [],
   "source": [
    "# run this cell to read in the libraries and data needed\n",
    "import numpy as np\n",
    "import pandas as pd\n",
    "import turicreate as tc\n",
    "\n",
    "ratings_dat = pd.read_csv('../../data/ratings.dat', sep='::', engine='python', \\\n",
    "                          header=None, names=['user_id', 'movie_id','rating','time'])\n",
    "\n",
    "ratings_dat2 = ratings_dat.copy(deep=True)\n",
    "ratings_dat2.columns = ['user_id', 'item_id', 'rating', 'time']\n",
    "ratings_sframe = tc.SFrame(ratings_dat2[['user_id', 'item_id', 'rating']])\n",
    "\n",
    "ratings_sframe.head()"
   ]
  },
  {
   "cell_type": "markdown",
   "metadata": {},
   "source": [
    "You've had the opportunity to fit a few different recommendation systems.  Now is your chance to put what you learned to practice.  Use the below prompts (and code from earlier in this course) to split your data and fit a few different models to be considered when making a recommendation.\n",
    "\n",
    "**First,** create train and test datasets from the original data.  Set the `max_num_users` to `None` in order to maximize the test set."
   ]
  },
  {
   "cell_type": "code",
   "execution_count": null,
   "metadata": {},
   "outputs": [],
   "source": []
  },
  {
   "cell_type": "markdown",
   "metadata": {},
   "source": [
    "**Now** using your `target = rating`, `create` two recommendation systems: a `factorization_recommender` and a `popularity_recommender`. "
   ]
  },
  {
   "cell_type": "code",
   "execution_count": null,
   "metadata": {},
   "outputs": [],
   "source": []
  },
  {
   "cell_type": "markdown",
   "metadata": {},
   "source": [
    "Make **3** `recommend`ations for each of the users in `users_test`, the `SFrame` created below using each of your two created recommendation systems."
   ]
  },
  {
   "cell_type": "code",
   "execution_count": null,
   "metadata": {},
   "outputs": [],
   "source": [
    "users_test = tc.SFrame({'user_id': [1, 2, 8]})\n",
    "\n",
    "# use recommend to make recommendations for users_test with each of your recommenders\n"
   ]
  },
  {
   "cell_type": "markdown",
   "metadata": {},
   "source": [
    "What happens when you make recommendations for the `new_user` below with the `popular` recommender?  How about if you make a recommendation using the `factorization` recommender?"
   ]
  },
  {
   "cell_type": "code",
   "execution_count": null,
   "metadata": {},
   "outputs": [],
   "source": [
    "new_user = tc.SFrame({'user_id': [0]})\n",
    "\n",
    "# try making a recommendation using either of your recommendation systems\n"
   ]
  },
  {
   "cell_type": "code",
   "execution_count": null,
   "metadata": {},
   "outputs": [],
   "source": [
    "import solution_part2 as sp\n",
    "\n",
    "a = \"each of the recommenders has nan recommendations for the new user\"\n",
    "b = \"both recommenders recommend the same, most popular recommendations\"\n",
    "c = \"both recommenders give recommendations, but they don't match one another\"\n",
    "d = \"None of the above\"\n",
    "\n",
    "your_answer = c\n",
    "\n",
    "sp.answer_one(your_answer)"
   ]
  },
  {
   "cell_type": "code",
   "execution_count": null,
   "metadata": {},
   "outputs": [],
   "source": [
    "# run this cell to get some final thoughts before the next section\n",
    "sp.final_thoughts()"
   ]
  }
 ],
 "metadata": {
  "kernelspec": {
   "display_name": "Python 3",
   "language": "python",
   "name": "python3"
  },
  "language_info": {
   "codemirror_mode": {
    "name": "ipython",
    "version": 3
   },
   "file_extension": ".py",
   "mimetype": "text/x-python",
   "name": "python",
   "nbconvert_exporter": "python",
   "pygments_lexer": "ipython3",
   "version": "3.6.10"
  }
 },
 "nbformat": 4,
 "nbformat_minor": 4
}
