{
 "cells": [
  {
   "cell_type": "markdown",
   "metadata": {},
   "source": [
    "### Evaluation Methods\n",
    "\n",
    "In this notebook, you will get more comfortable with the different methods for evaluating your recommendation system.  \n",
    "\n",
    "\n",
    "Before working with actual data, let's review some of the high level ideas to make sure you are comfortable with the fundamental ideas.  \n",
    "\n",
    "**Question 1:** Consider we want to classify for each movie if an individual will click or not if it is recommended to them, which of the following is **not** a metric that could be used to evaluate a recommendation system for this situation?"
   ]
  },
  {
   "cell_type": "code",
   "execution_count": null,
   "metadata": {},
   "outputs": [],
   "source": [
    "import solution_part1 as sp\n",
    "\n",
    "a = \"accuracy\"\n",
    "b = \"precision\"\n",
    "c = \"recall\"\n",
    "d = \"rmse\"\n",
    "e = \"f1-score\"\n",
    "\n",
    "your_answer = #a\n",
    "\n",
    "sp.answer_one(your_answer)"
   ]
  },
  {
   "cell_type": "markdown",
   "metadata": {},
   "source": [
    "**Question 2:** Imagine in the above scenario imagine that we know the click through rate on average of any recommendation is 10%, while 90% of movies are not clicked through on.  \n",
    "\n",
    "You build a recommendation engine that predicts with an 88% accuracy whether a recommended movie will be clicked through on or not.  What is your reaction to this result?"
   ]
  },
  {
   "cell_type": "code",
   "execution_count": null,
   "metadata": {},
   "outputs": [],
   "source": [
    "a = \"At first glance, 88% seems like a good accuracy based on what we know.\"\n",
    "b = \"At first glance, 88% accuracy could be good depending on the break out between TP, TN, FP, FN.\"\n",
    "c = \"At first glance, 88% seems not great given 90% accuracy's possible by predicting every movie won't be clicked.\"\n",
    "\n",
    "your_answer = #a\n",
    "\n",
    "sp.answer_two(your_answer)"
   ]
  },
  {
   "cell_type": "markdown",
   "metadata": {},
   "source": [
    "**Question 3:** When evaluating how well your recommendation system is working, it is important to use train-test splits of the data (often along with cross-validation).  What is the name of a common problem that can occur when you train your recommendation system on all your data, and then you evaluate how well your recommendation system is working based on how well it fits all your data?"
   ]
  },
  {
   "cell_type": "code",
   "execution_count": null,
   "metadata": {},
   "outputs": [],
   "source": [
    "a = \"You are likely to overfit.\"\n",
    "b = \"You are likely to always over estimate with your predictions.\"\n",
    "c = \"You are likely to always under estimate with your predictions.\"\n",
    "d = \"None of the above, you don't need to use train-test splits or cross-validation.\"\n",
    "\n",
    "your_answer = #a\n",
    "\n",
    "sp.answer_three(your_answer)"
   ]
  },
  {
   "cell_type": "markdown",
   "metadata": {},
   "source": [
    "There are smart ways to make your train-test split.  One of the ways `turicreate` assists in performing smart splits is by providing `random_split_by_user` functionality.  You can find more information on this functionality in the [documentation here](https://apple.github.io/turicreate/docs/api/generated/turicreate.recommender.util.random_split_by_user.html).  The key takeaway of this function is that rather than just taking a random sample of rows for the training and test sets (like a scikit-learn split might do), this technique first randomly selects users, and then randomly selects items within the users.\n",
    "\n",
    "**\"`tc.recommender.random_split_by_user` generates a test set by first choosing a subset of the users at random, then choosing a random subset of that user's items. By default, it chooses 1000 users and, for each of these users, 20% of their items on average. Note that not all users may be represented by the test set, as some users may not have any of their items randomly selected for the test set.\"**\n",
    "\n",
    "You will use this functionality to split your data into training and testing in the cells below, and then answer the following questions about your results."
   ]
  },
  {
   "cell_type": "code",
   "execution_count": null,
   "metadata": {},
   "outputs": [],
   "source": [
    "# run this cell to read in the libraries and data needed\n",
    "import numpy as np\n",
    "import pandas as pd\n",
    "import turicreate as tc\n",
    "\n",
    "ratings_dat = pd.read_csv('../../data/ratings.dat', sep='::', engine='python', \\\n",
    "                          header=None, names=['user_id', 'movie_id','rating','time'])\n",
    "\n",
    "ratings_dat2 = ratings_dat.copy(deep=True)\n",
    "ratings_dat2.columns = ['user_id', 'item_id', 'rating', 'time']\n",
    "ratings_sframe = tc.SFrame(ratings_dat2[['user_id', 'item_id', 'rating']])"
   ]
  },
  {
   "cell_type": "code",
   "execution_count": null,
   "metadata": {},
   "outputs": [],
   "source": [
    "# split your data into train and test\n",
    "train, test = tc.recommender.util.random_split_by_user(ratings_sframe, \n",
    "                                                       user_id = 'user_id',\n",
    "                                                       item_id = 'item_id',\n",
    "                                                       max_num_users=None)"
   ]
  },
  {
   "cell_type": "markdown",
   "metadata": {},
   "source": [
    "**Question 4:** What proportion of the full data ended up as `test` when using the above case with `max_num_users=None`?  "
   ]
  },
  {
   "cell_type": "code",
   "execution_count": null,
   "metadata": {},
   "outputs": [],
   "source": [
    "your_answer = #1.0235\n",
    "\n",
    "sp.answer_four(your_answer)"
   ]
  }
 ],
 "metadata": {
  "kernelspec": {
   "display_name": "Python 3",
   "language": "python",
   "name": "python3"
  },
  "language_info": {
   "codemirror_mode": {
    "name": "ipython",
    "version": 3
   },
   "file_extension": ".py",
   "mimetype": "text/x-python",
   "name": "python",
   "nbconvert_exporter": "python",
   "pygments_lexer": "ipython3",
   "version": "3.6.10"
  }
 },
 "nbformat": 4,
 "nbformat_minor": 4
}
