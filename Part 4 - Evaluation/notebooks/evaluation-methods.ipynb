{
 "cells": [
  {
   "cell_type": "markdown",
   "metadata": {},
   "source": [
    "### Evaluation Methods\n",
    "\n",
    "In this notebook, you will get more comfortable with the different methods for evaluating your recommendation system.  \n",
    "\n",
    "\n",
    "Before working with actual data, let's review some of the high level ideas to make sure you are comfortable with the fundamental ideas.  \n",
    "\n",
    "**Question 1:** Consider we want to classify for each movie if an individual will click or not if it is recommended to them, which of the following is **not** a metric that could be used to evaluate a recommendation system for this situation?"
   ]
  },
  {
   "cell_type": "code",
   "execution_count": null,
   "metadata": {},
   "outputs": [],
   "source": [
    "import solution_part1 as sp\n",
    "\n",
    "a = \"accuracy\"\n",
    "b = \"precision\"\n",
    "c = \"recall\"\n",
    "d = \"rmse\"\n",
    "e = \"f1-score\"\n",
    "\n",
    "your_answer = #a\n",
    "\n",
    "sp.answer_three(your_answer)"
   ]
  },
  {
   "cell_type": "markdown",
   "metadata": {},
   "source": [
    "**Question 2:** Imagine in the above scenario imagine that we know the click through rate on average of any recommendation is 10%, while 90% of movies are not clicked through on.  \n",
    "\n",
    "You build a recommendation engine that predicts with an 88% accuracy whether a recommended movie will be clicked through on or not.  What is your reaction to this result?"
   ]
  },
  {
   "cell_type": "code",
   "execution_count": null,
   "metadata": {},
   "outputs": [],
   "source": [
    "a = \"At first glance, 88% seems like a good accuracy based on what we know.\"\n",
    "b = \"At first glance, 88% accuracy could be good depending on the break out between TP, TN, FP, FN.\"\n",
    "c = \"At first glance, 88% seems not great given 90% accuracy's possible by predicting every movie won't be clicked.\"\n",
    "\n",
    "your_answer = #a\n",
    "\n",
    "sp.answer_two(your_answer)"
   ]
  },
  {
   "cell_type": "markdown",
   "metadata": {},
   "source": [
    "**Question 3:** When evaluating how well your recommendation system is working, it is important to use train-test splits of the data (often along with cross-validation).  What is the name of a common problem that can occur when you train your recommendation system on all your data, and then you evaluate how well your recommendation system is working based on how well it fits all your data?"
   ]
  },
  {
   "cell_type": "code",
   "execution_count": null,
   "metadata": {},
   "outputs": [],
   "source": [
    "a = \"You are likely to overfit.\"\n",
    "b = \"You are likely to always over estimate with your predictions.\"\n",
    "c = \"You are likely to always under estimate with your predictions.\"\n",
    "d = \"None of the above, you don't need to use train-test splits or cross-validation.\"\n",
    "\n",
    "your_answer = #a\n",
    "\n",
    "sp.answer_three(your_answer)"
   ]
  },
  {
   "cell_type": "markdown",
   "metadata": {},
   "source": [
    "There are smart ways to want to make your train test splits based on what users have and have not rated, as well as based on time.  One of the ways `turicreate` assists in performing smart splits is by providing `random_split_by_user` functionality.  You can find more on this functionality in the [documentation here](https://apple.github.io/turicreate/docs/api/generated/turicreate.recommender.util.random_split_by_user.html).\n",
    "\n",
    "You will use this functionality to split the data "
   ]
  },
  {
   "cell_type": "code",
   "execution_count": 1,
   "metadata": {},
   "outputs": [
    {
     "ename": "ModuleNotFoundError",
     "evalue": "No module named 'turicreate'",
     "output_type": "error",
     "traceback": [
      "\u001b[0;31m---------------------------------------------------------------------------\u001b[0m",
      "\u001b[0;31mModuleNotFoundError\u001b[0m                       Traceback (most recent call last)",
      "\u001b[0;32m<ipython-input-1-64ae54645a37>\u001b[0m in \u001b[0;36m<module>\u001b[0;34m\u001b[0m\n\u001b[0;32m----> 1\u001b[0;31m \u001b[0;32mimport\u001b[0m \u001b[0mturicreate\u001b[0m \u001b[0;32mas\u001b[0m \u001b[0mtc\u001b[0m\u001b[0;34m\u001b[0m\u001b[0;34m\u001b[0m\u001b[0m\n\u001b[0m\u001b[1;32m      2\u001b[0m \u001b[0;34m\u001b[0m\u001b[0m\n\u001b[1;32m      3\u001b[0m \u001b[0mtrain\u001b[0m\u001b[0;34m,\u001b[0m \u001b[0mtest\u001b[0m \u001b[0;34m=\u001b[0m \u001b[0mtc\u001b[0m\u001b[0;34m.\u001b[0m\u001b[0mrecommender\u001b[0m\u001b[0;34m.\u001b[0m\u001b[0mutil\u001b[0m\u001b[0;34m.\u001b[0m\u001b[0mrandom_split_by_user\u001b[0m\u001b[0;34m(\u001b[0m\u001b[0msf\u001b[0m\u001b[0;34m,\u001b[0m \u001b[0mmax_num_users\u001b[0m\u001b[0;34m=\u001b[0m\u001b[0;36m100\u001b[0m\u001b[0;34m)\u001b[0m\u001b[0;34m\u001b[0m\u001b[0;34m\u001b[0m\u001b[0m\n",
      "\u001b[0;31mModuleNotFoundError\u001b[0m: No module named 'turicreate'"
     ]
    }
   ],
   "source": [
    "import turicreate as tc\n",
    "\n",
    "train, test = tc.recommender.util.random_split_by_user(sf, max_num_users=100)\n"
   ]
  },
  {
   "cell_type": "code",
   "execution_count": null,
   "metadata": {},
   "outputs": [],
   "source": []
  }
 ],
 "metadata": {
  "kernelspec": {
   "display_name": "Python 3",
   "language": "python",
   "name": "python3"
  },
  "language_info": {
   "codemirror_mode": {
    "name": "ipython",
    "version": 3
   },
   "file_extension": ".py",
   "mimetype": "text/x-python",
   "name": "python",
   "nbconvert_exporter": "python",
   "pygments_lexer": "ipython3",
   "version": "3.7.6"
  }
 },
 "nbformat": 4,
 "nbformat_minor": 4
}
