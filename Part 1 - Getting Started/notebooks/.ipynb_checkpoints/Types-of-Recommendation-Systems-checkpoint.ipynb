{
 "cells": [
  {
   "cell_type": "markdown",
   "metadata": {},
   "source": [
    "### Types of Recommendation Systems\n",
    "\n",
    "At this point, you have completed the first set of slides about types of recommenders.  This notebook will test your knowledge of these topics.  These topics include an understanding of what is needed for a recommender to be successful, as well as how each of the following work:\n",
    "* Collaborative filtering\n",
    "* Demographic recommenders\n",
    "* Content based recommenders\n",
    "* Utility based recommenders\n",
    "* Knowledge based recommenders"
   ]
  },
  {
   "cell_type": "markdown",
   "metadata": {},
   "source": [
    "**Question 1:** Which recommendation approach involves filters due to the fact that specifics of the items are neeeded to provide useful recommendations?"
   ]
  },
  {
   "cell_type": "code",
   "execution_count": null,
   "metadata": {},
   "outputs": [],
   "source": [
    "import solution_part1 as sp\n",
    "\n",
    "a = 'collaborative filtering'\n",
    "b = 'demographic recommenders'\n",
    "c = 'content based recommenders'\n",
    "d = 'utility based recommenders'\n",
    "e = 'knowledge based recommenders'\n",
    "\n",
    "your_answer = #a\n",
    "\n",
    "sp.answer_one(your_answer)"
   ]
  },
  {
   "cell_type": "markdown",
   "metadata": {},
   "source": [
    "**Question 2:** Which recommendation approach is based on gaining a similarity of users to one another and then recommending products one user likes to similar users?"
   ]
  },
  {
   "cell_type": "code",
   "execution_count": null,
   "metadata": {},
   "outputs": [],
   "source": [
    "a = 'collaborative filtering'\n",
    "b = 'demographic recommenders'\n",
    "c = 'content based recommenders'\n",
    "d = 'utility based recommenders'\n",
    "e = 'knowledge based recommenders'\n",
    "\n",
    "your_answer = #a\n",
    "\n",
    "sp.answer_two(your_answer)"
   ]
  },
  {
   "cell_type": "markdown",
   "metadata": {},
   "source": [
    "**Question 3:** Imagine Netflix were to take the script of every movie and measure the similarity of movies with similar scripts (words, tone, music, etc.).  Then when a user likes a movie or show, we recommend movies that have similar scripts this is an example of which recommendation strategy?"
   ]
  },
  {
   "cell_type": "code",
   "execution_count": null,
   "metadata": {},
   "outputs": [],
   "source": [
    "a = 'collaborative filtering'\n",
    "b = 'demographic recommender'\n",
    "c = 'content based recommender'\n",
    "d = 'utility based recommender'\n",
    "e = 'knowledge based recommender'\n",
    "\n",
    "your_answer = #a\n",
    "\n",
    "sp.answer_three(your_answer)"
   ]
  },
  {
   "cell_type": "markdown",
   "metadata": {},
   "source": [
    "**Question 4:** If we recommend restaurants based on the location and other the time of the day, this is an example of what type of recommendation engine is this?"
   ]
  },
  {
   "cell_type": "code",
   "execution_count": null,
   "metadata": {},
   "outputs": [],
   "source": [
    "a = 'collaborative filtering'\n",
    "b = 'demographic recommender'\n",
    "c = 'content based recommender'\n",
    "d = 'utility based recommender'\n",
    "e = 'knowledge based recommender'\n",
    "\n",
    "your_answer = #a\n",
    "\n",
    "sp.answer_four(your_answer)"
   ]
  },
  {
   "cell_type": "code",
   "execution_count": null,
   "metadata": {},
   "outputs": [],
   "source": []
  }
 ],
 "metadata": {
  "kernelspec": {
   "display_name": "Python 3",
   "language": "python",
   "name": "python3"
  },
  "language_info": {
   "codemirror_mode": {
    "name": "ipython",
    "version": 3
   },
   "file_extension": ".py",
   "mimetype": "text/x-python",
   "name": "python",
   "nbconvert_exporter": "python",
   "pygments_lexer": "ipython3",
   "version": "3.6.7"
  }
 },
 "nbformat": 4,
 "nbformat_minor": 2
}
