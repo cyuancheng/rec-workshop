{
 "cells": [
  {
   "cell_type": "markdown",
   "metadata": {},
   "source": [
    "### Business Cases\n",
    "\n",
    "At this point, you have completed the second set of slides about types of recommenders.  This notebook will test your knowledge of these topics.  These topics include an understanding of business use cases:\n",
    "* relevance\n",
    "* novelty\n",
    "* serendipity\n",
    "* increased diversity\n",
    "\n",
    "The other business case we looked at was related to new users:\n",
    "* the cold start problem\n"
   ]
  },
  {
   "cell_type": "markdown",
   "metadata": {},
   "source": [
    "**Question 1:** Being able to put the right item in front of the right person in a way that is surprising and exciting is what property of a good recommendation?"
   ]
  },
  {
   "cell_type": "code",
   "execution_count": null,
   "metadata": {},
   "outputs": [],
   "source": [
    "import solution_part2 as sp\n",
    "\n",
    "a = 'relevance'\n",
    "b = 'novelty'\n",
    "c = 'serendipity'\n",
    "d = 'increased diversity'\n",
    "e = 'the cold start problem'\n",
    "\n",
    "your_answer = #a\n",
    "\n",
    "sp.answer_one(your_answer)"
   ]
  },
  {
   "cell_type": "markdown",
   "metadata": {},
   "source": [
    "**Question 2:** The most important property of any recommendation."
   ]
  },
  {
   "cell_type": "code",
   "execution_count": null,
   "metadata": {},
   "outputs": [],
   "source": [
    "a = 'relevance'\n",
    "b = 'novelty'\n",
    "c = 'serendipity'\n",
    "d = 'increased diversity'\n",
    "e = 'the cold start problem'\n",
    "\n",
    "your_answer = #a\n",
    "\n",
    "sp.answer_two(your_answer)"
   ]
  },
  {
   "cell_type": "markdown",
   "metadata": {},
   "source": [
    "**Question 3:** When users are new, we encounter this recommendation property."
   ]
  },
  {
   "cell_type": "code",
   "execution_count": null,
   "metadata": {},
   "outputs": [],
   "source": [
    "a = 'relevance'\n",
    "b = 'novelty'\n",
    "c = 'serendipity'\n",
    "d = 'increased diversity'\n",
    "e = 'the cold start problem'\n",
    "\n",
    "your_answer = #a\n",
    "\n",
    "sp.answer_three(your_answer)"
   ]
  },
  {
   "cell_type": "markdown",
   "metadata": {},
   "source": [
    "**Question 4:** Recommendations that are new and unexpected have this recommendation property."
   ]
  },
  {
   "cell_type": "code",
   "execution_count": null,
   "metadata": {},
   "outputs": [],
   "source": [
    "a = 'relevance'\n",
    "b = 'novelty'\n",
    "c = 'serendipity'\n",
    "d = 'increased diversity'\n",
    "e = 'the cold start problem'\n",
    "\n",
    "your_answer = #a\n",
    "\n",
    "sp.answer_four(your_answer)"
   ]
  },
  {
   "cell_type": "code",
   "execution_count": null,
   "metadata": {},
   "outputs": [],
   "source": []
  }
 ],
 "metadata": {
  "kernelspec": {
   "display_name": "Python 3",
   "language": "python",
   "name": "python3"
  },
  "language_info": {
   "codemirror_mode": {
    "name": "ipython",
    "version": 3
   },
   "file_extension": ".py",
   "mimetype": "text/x-python",
   "name": "python",
   "nbconvert_exporter": "python",
   "pygments_lexer": "ipython3",
   "version": "3.6.7"
  }
 },
 "nbformat": 4,
 "nbformat_minor": 2
}
